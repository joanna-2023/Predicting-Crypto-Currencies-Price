{
 "cells": [
  {
   "cell_type": "markdown",
   "id": "76417603-da80-4412-8686-1c4bc6c627b9",
   "metadata": {
    "tags": []
   },
   "source": [
    "#### Crypto currencies market analysis (Part C)\n",
    "\n",
    "- Author: Jane (Desislava) Nikolova\n",
    "- LinkedIn: https://www.linkedin.com/in/nikolova2023\n",
    "- Presentation for this Notebook: \n",
    "- Date: August, 2023"
   ]
  },
  {
   "cell_type": "markdown",
   "id": "3d46858e-5f8f-46bb-b518-af6584f43dc4",
   "metadata": {},
   "source": [
    "#### Contents:\n",
    "\n",
    "- I. Objectives of the analysis\n",
    "\n",
    "- II. EDA - Exploratory data analysis & Data preprocessing and features reduction (if applicable)\n",
    "\n",
    "    - Extreme values\n",
    "    - Treatment of extreme values and random sampling\n",
    "    - Data quality\n",
    "\n",
    "- III. Predictions & Models' Validation:\n",
    "\n",
    "    - Linear Regression (Part A)\n",
    "    \n",
    "    - Support vector machines (regression) (Part B)\n",
    "\n",
    "    - Stochastic Gradient Descent (regression) (Part B)\n",
    "\n",
    "    - Gradient Boosting (regression) (Part B)\n",
    "\n",
    "    - Neural Networks (regression) (Part B)\n",
    "    \n",
    "- IV. Conclusion\n",
    "    - Recommendation for best performing predictive model (Part C)\n",
    "    - Efficinecy of algorithms - which currencies the best model applies to (Part C)\n",
    "    "
   ]
  },
  {
   "cell_type": "markdown",
   "id": "c90ec23a-4073-4437-8803-197c263274c4",
   "metadata": {},
   "source": [
    "#### IV. Conclusion\n",
    "\n"
   ]
  }
 ],
 "metadata": {
  "kernelspec": {
   "display_name": "Python 3 (ipykernel)",
   "language": "python",
   "name": "python3"
  },
  "language_info": {
   "codemirror_mode": {
    "name": "ipython",
    "version": 3
   },
   "file_extension": ".py",
   "mimetype": "text/x-python",
   "name": "python",
   "nbconvert_exporter": "python",
   "pygments_lexer": "ipython3",
   "version": "3.11.3"
  }
 },
 "nbformat": 4,
 "nbformat_minor": 5
}
